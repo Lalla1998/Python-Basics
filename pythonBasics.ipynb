{
  "nbformat": 4,
  "nbformat_minor": 0,
  "metadata": {
    "colab": {
      "provenance": []
    },
    "kernelspec": {
      "name": "python3",
      "display_name": "Python 3"
    },
    "language_info": {
      "name": "python"
    }
  },
  "cells": [
    {
      "cell_type": "markdown",
      "source": [
        "#Python Basic Assignment\n"
      ],
      "metadata": {
        "id": "Sx1vSgwMaKVx"
      }
    },
    {
      "cell_type": "markdown",
      "source": [
        "1. What is Python, and why is it popular ?\n",
        "   \n",
        "   -> Python is an interpreted ,simple and easy programming language used widely in everything from development to data science, AI and more.\n",
        "   It becomes very popular due to following properties:\n",
        "\n",
        "\n",
        "\n",
        "*   It is easy to learn and use or easy to read and write its syntaxes.\n",
        "*   It have rich library ecosystem , tutorials and active community support makes it more friendly.\n",
        "\n",
        "\n",
        "\n",
        "*   It is open source and cost effective.\n",
        "*   It have prebuilt libraries for data manipulation (numpy and pandas), for machine learning (scikitlearn,pytorch,etc) , for big data (pyspark , Dask,etc) and for many purposes .\n",
        "\n",
        "\n",
        "\n",
        "\n",
        "\n",
        "\n"
      ],
      "metadata": {
        "id": "pJL1_zTfaez5"
      }
    },
    {
      "cell_type": "markdown",
      "source": [
        "2. What is an interpreter in Python ?\n",
        "   \n",
        "   ->An interpreter in python is program that reads and executes our code in python line by line . Since python is an interpreted programming language , therefore interpreter checks the code line by line and stops executing when a single error is occured  and it runs program directly having no need to compile the code in machine language first."
      ],
      "metadata": {
        "id": "OXrlXgWYgLaR"
      }
    },
    {
      "cell_type": "markdown",
      "source": [
        "3. What are pre-defined keywords in Python ?\n",
        "\n",
        "   -> Predefined keywords in python are the reserved words in python which can not be used as identifiers(variable names and function names , etc.) and these reserved words have some special meaning. Keywords are case sensitive and cannot be overriden with a python program.\n",
        "   ex. if ,  else ,  while , for , print , True , False, None , etc."
      ],
      "metadata": {
        "id": "tmLIfxTti9cn"
      }
    },
    {
      "cell_type": "markdown",
      "source": [
        "4. Can keywords be used as variable names ?\n",
        "\n",
        "  -> No  keywords can not be used as variable names."
      ],
      "metadata": {
        "id": "Xg1M63QQlshG"
      }
    },
    {
      "cell_type": "markdown",
      "source": [
        "5.What is mutability in Python ?\n",
        "\n",
        "  -> In python lists and dictonaries are mutable objects that means they can be modified or changeable that is the object in python which can be changeable are said to be mutable objects."
      ],
      "metadata": {
        "id": "WvLn8SQ8l9l8"
      }
    },
    {
      "cell_type": "markdown",
      "source": [
        "6. Why are lists mutable, but tuples are immutable ?\n",
        "\n",
        "   -> List in python are mutable because List allows modification after creation as it stores reference to the variables and python allows us to update references .\n",
        "   \n",
        "   Tuples  are immutable because it often used for fixed collections of items and cannot be change after creation."
      ],
      "metadata": {
        "id": "lGzlxJALmyPc"
      }
    },
    {
      "cell_type": "markdown",
      "source": [
        " 7. What is the difference between “==” and “is” operators in Python ?\n",
        "\n",
        "    ->   \"==\" is a comparison operator which is used to check whether the two variables have the same value or not.\n",
        "\n",
        "    \" is \" operator is a identity operator that checks whether two variables refers to the same object in memory or not."
      ],
      "metadata": {
        "id": "_iUAvUOXpLVf"
      }
    },
    {
      "cell_type": "markdown",
      "source": [
        "8. What are logical operators in Python ?\n",
        "\n",
        "  -> Logical operators in python are used to compare the boolean values or it used to make decisions in code . It give either True or False outcomes based on certain applied circumstances."
      ],
      "metadata": {
        "id": "Bsf9oHbuqr7j"
      }
    },
    {
      "cell_type": "markdown",
      "source": [
        " 9. What is type casting in Python ?\n",
        "\n",
        "   -> Type casting or type conversion in python is process of converting one data type to another.\n",
        "\n",
        "   It is often necessary for arithmetic operation, data manipulation and input/output operation in python. There are various built in functions in python for type conversion such as int() , float() , list() , dict() , etc."
      ],
      "metadata": {
        "id": "EjAfIIVUr6E3"
      }
    },
    {
      "cell_type": "markdown",
      "source": [
        " 10. What is the difference between implicit and explicit type casting ?\n",
        "\n",
        "   -> Python automatically converts one type to another when it make sense without losing data then it said to be implicit typecasting.\n",
        "\n",
        "   When we manually convert one type to another by using a built in functions then it said to be explicit typecasting."
      ],
      "metadata": {
        "id": "nNC-K4Ntu8Ts"
      }
    },
    {
      "cell_type": "markdown",
      "source": [
        "11. What is the purpose of conditional statements in Python ?\n",
        "\n",
        "  -> Conditional statement in python are used to execute code based on the evaluation of one or more conditions.\n",
        "\n",
        "  Python supports conditional statements like if , elif , else if and else to control the flow of execution. Its main purpose is to execute the given block of code by evaluating applied conditions."
      ],
      "metadata": {
        "id": "U9O44FAvxBns"
      }
    },
    {
      "cell_type": "markdown",
      "source": [
        " 12.  How does the elif statement work ?\n",
        "\n",
        "  -> elif statement in python is stands for else if conditions , it is used to check multiple conditions .\n",
        "\n",
        "  When we want to check more than two conditions then it comes to use .\n",
        "  if(condition1):\n",
        "      block of code\n",
        "  elif(condition2):\n",
        "      block of code\n",
        "  elif(condition3):\n",
        "      block of code\n",
        "  else(condition3):\n",
        "      block of code"
      ],
      "metadata": {
        "id": "9vntm_GqyquV"
      }
    },
    {
      "cell_type": "markdown",
      "source": [
        " 13. What is the difference between for and while loops ?\n",
        "\n",
        "   -> \"for\" loop is used to iterate over a sequence of elements , number of iteration is known in case of for loop and \"while\" loop are used for executing code until a specified condition becomes False , while is used to when number of iteration is unknown.\n",
        "\n",
        "   For and while loop have different syntaxes"
      ],
      "metadata": {
        "id": "s8-a3R3O0yuz"
      }
    },
    {
      "cell_type": "markdown",
      "source": [
        " 14.  Describe a scenario where a while loop is more suitable than a for loop ?\n",
        "\n",
        "   -> A scenario on checking ATM pin ,the user have 3 chance to enter the correct pin but as soon as correct pin is entered , the loop should stopped\n",
        "   even if attempts are remaining . Here while loop is best choice than the for loop.\n",
        "   \n",
        "   while (attempts < max_attempts):\n",
        "      \n",
        "       pin = input(\"Enter your pin:\")\n",
        "\n",
        "\n",
        "       ........  block of code\n",
        "  \n",
        "But if we use for loop here then we face difficulty to apply them."
      ],
      "metadata": {
        "id": "TZvzRvVw22x2"
      }
    },
    {
      "cell_type": "markdown",
      "source": [
        "# Practical Question"
      ],
      "metadata": {
        "id": "cnDN9XOtmJhl"
      }
    },
    {
      "cell_type": "markdown",
      "source": [
        "1. Write a Python program to print \"Hello, World!\" ?"
      ],
      "metadata": {
        "id": "kJ83L2FMmRq7"
      }
    },
    {
      "cell_type": "code",
      "source": [
        "print(\"Hello,World!\")"
      ],
      "metadata": {
        "colab": {
          "base_uri": "https://localhost:8080/"
        },
        "id": "E3CJWJ7hmguc",
        "outputId": "e62c7d96-852b-49d7-e9c3-e330bc2f0d63"
      },
      "execution_count": null,
      "outputs": [
        {
          "output_type": "stream",
          "name": "stdout",
          "text": [
            "Hello,World!\n"
          ]
        }
      ]
    },
    {
      "cell_type": "markdown",
      "source": [
        "2. Write a Python program that displays your name and age ?"
      ],
      "metadata": {
        "id": "H5c3Y_Arm2RD"
      }
    },
    {
      "cell_type": "code",
      "source": [
        "name = \"Yash Dwivedi\"\n",
        "age = 23\n",
        "print(\"My name is \", name)\n",
        "print(\"I am \", age , \"years old\")"
      ],
      "metadata": {
        "colab": {
          "base_uri": "https://localhost:8080/"
        },
        "id": "KTAO_9i6lemn",
        "outputId": "ebe44e0a-9df4-4e9b-d890-cf34cf3e0f42"
      },
      "execution_count": null,
      "outputs": [
        {
          "output_type": "stream",
          "name": "stdout",
          "text": [
            "My name is  Yash Dwivedi\n",
            "I am  23 years old\n"
          ]
        }
      ]
    },
    {
      "cell_type": "markdown",
      "source": [
        "3. Write code to print all the pre-defined keywords in Python using the keyword library?"
      ],
      "metadata": {
        "id": "xnDw7oJ1oUK2"
      }
    },
    {
      "cell_type": "code",
      "source": [
        "help(\"keywords\")"
      ],
      "metadata": {
        "colab": {
          "base_uri": "https://localhost:8080/"
        },
        "id": "Z6A3kQSPpKmP",
        "outputId": "a5360504-9d93-40c0-d005-0ef3c82674b1"
      },
      "execution_count": null,
      "outputs": [
        {
          "output_type": "stream",
          "name": "stdout",
          "text": [
            "\n",
            "Here is a list of the Python keywords.  Enter any keyword to get more help.\n",
            "\n",
            "False               class               from                or\n",
            "None                continue            global              pass\n",
            "True                def                 if                  raise\n",
            "and                 del                 import              return\n",
            "as                  elif                in                  try\n",
            "assert              else                is                  while\n",
            "async               except              lambda              with\n",
            "await               finally             nonlocal            yield\n",
            "break               for                 not                 \n",
            "\n"
          ]
        }
      ]
    },
    {
      "cell_type": "markdown",
      "source": [
        "4.  Write a program that checks if a given word is a Python keyword ?"
      ],
      "metadata": {
        "id": "1MAptk2tjRBH"
      }
    },
    {
      "cell_type": "code",
      "source": [
        "import keyword\n",
        "word = input(\"Enter the word:\")\n",
        "if word in keyword.kwlist:\n",
        "  print(f\"'{word}' is a python keyword\")\n",
        "else:\n",
        "    print(f\"'{word}' is not a python keyword\")"
      ],
      "metadata": {
        "id": "1weLbxayoTow",
        "colab": {
          "base_uri": "https://localhost:8080/"
        },
        "outputId": "c373d511-2ec2-42cc-9551-627df64bdd77"
      },
      "execution_count": null,
      "outputs": [
        {
          "output_type": "stream",
          "name": "stdout",
          "text": [
            "Enter the word:def\n",
            "'def' is a python keyword\n"
          ]
        }
      ]
    },
    {
      "cell_type": "markdown",
      "source": [
        "5.  Create a list and tuple in Python, and demonstrate how attempting to change an element works differently\n",
        "for each."
      ],
      "metadata": {
        "id": "TtMg0hvAlqRZ"
      }
    },
    {
      "cell_type": "code",
      "source": [
        "# defining a list\n",
        "l1 = [\"Yash\", 20, 21, 24, \"Utkarsh\"]\n",
        "print(\"original list:\", l1)\n",
        "#modifying the list\n",
        "l1[0] = \"Ansh\"\n",
        "print(\"modified list:\", l1)\n",
        "# list can be mutable in python"
      ],
      "metadata": {
        "colab": {
          "base_uri": "https://localhost:8080/"
        },
        "id": "vOHB1GvXls0C",
        "outputId": "e8bce1de-3452-44e2-9acf-e93d7d63f73f"
      },
      "execution_count": null,
      "outputs": [
        {
          "output_type": "stream",
          "name": "stdout",
          "text": [
            "original list: ['Yash', 20, 21, 24, 'Utkarsh']\n",
            "modified list: ['Ansh', 20, 21, 24, 'Utkarsh']\n"
          ]
        }
      ]
    },
    {
      "cell_type": "code",
      "source": [
        "# Defining the tuple\n",
        "t1 = (50,55,60,70)\n",
        "print(\"Original tuple :\", t1)\n",
        "t1[1] = 52\n",
        "print(\"Modified tuple: \", t1)\n",
        "#Tuple is immutable in python therefore it gives an error"
      ],
      "metadata": {
        "colab": {
          "base_uri": "https://localhost:8080/",
          "height": 228
        },
        "id": "Qe1LV58lnHBQ",
        "outputId": "9e2f5b86-2a8b-4cf1-c36d-b90d238e1e6d"
      },
      "execution_count": null,
      "outputs": [
        {
          "output_type": "stream",
          "name": "stdout",
          "text": [
            "Original tuple : (50, 55, 60, 70)\n"
          ]
        },
        {
          "output_type": "error",
          "ename": "TypeError",
          "evalue": "'tuple' object does not support item assignment",
          "traceback": [
            "\u001b[0;31m---------------------------------------------------------------------------\u001b[0m",
            "\u001b[0;31mTypeError\u001b[0m                                 Traceback (most recent call last)",
            "\u001b[0;32m<ipython-input-5-3cf5a72c19dc>\u001b[0m in \u001b[0;36m<cell line: 0>\u001b[0;34m()\u001b[0m\n\u001b[1;32m      2\u001b[0m \u001b[0mt1\u001b[0m \u001b[0;34m=\u001b[0m \u001b[0;34m(\u001b[0m\u001b[0;36m50\u001b[0m\u001b[0;34m,\u001b[0m\u001b[0;36m55\u001b[0m\u001b[0;34m,\u001b[0m\u001b[0;36m60\u001b[0m\u001b[0;34m,\u001b[0m\u001b[0;36m70\u001b[0m\u001b[0;34m)\u001b[0m\u001b[0;34m\u001b[0m\u001b[0;34m\u001b[0m\u001b[0m\n\u001b[1;32m      3\u001b[0m \u001b[0mprint\u001b[0m\u001b[0;34m(\u001b[0m\u001b[0;34m\"Original tuple :\"\u001b[0m\u001b[0;34m,\u001b[0m \u001b[0mt1\u001b[0m\u001b[0;34m)\u001b[0m\u001b[0;34m\u001b[0m\u001b[0;34m\u001b[0m\u001b[0m\n\u001b[0;32m----> 4\u001b[0;31m \u001b[0mt1\u001b[0m\u001b[0;34m[\u001b[0m\u001b[0;36m1\u001b[0m\u001b[0;34m]\u001b[0m \u001b[0;34m=\u001b[0m \u001b[0;36m52\u001b[0m\u001b[0;34m\u001b[0m\u001b[0;34m\u001b[0m\u001b[0m\n\u001b[0m\u001b[1;32m      5\u001b[0m \u001b[0mprint\u001b[0m\u001b[0;34m(\u001b[0m\u001b[0;34m\"Modified tuple: \"\u001b[0m\u001b[0;34m,\u001b[0m \u001b[0mt1\u001b[0m\u001b[0;34m)\u001b[0m\u001b[0;34m\u001b[0m\u001b[0;34m\u001b[0m\u001b[0m\n\u001b[1;32m      6\u001b[0m \u001b[0;31m#Tuple is immutable in python therefore it gives an error\u001b[0m\u001b[0;34m\u001b[0m\u001b[0;34m\u001b[0m\u001b[0m\n",
            "\u001b[0;31mTypeError\u001b[0m: 'tuple' object does not support item assignment"
          ]
        }
      ]
    },
    {
      "cell_type": "markdown",
      "source": [
        "6. Write a function to demonstrate the behavior of mutable and immutable arguments."
      ],
      "metadata": {
        "id": "kFU1eBSvoNwS"
      }
    },
    {
      "cell_type": "code",
      "source": [
        "def mutable_immutable(mut_args,immut_args):\n",
        "    print(\"before change: \",mut_args)\n",
        "    mut_args.append(100)\n",
        "    print(\"after change:\",mut_args)\n",
        "    print(\"before change :\",immut_args)\n",
        "    immut_args = immut_args + 10\n",
        "    print(\"after change:\",immut_args)\n",
        "\n",
        "#Test with example\n",
        "a = [1,2,3,4] #mutable\n",
        "b = 5 #immutable\n",
        "mutable_immutable(a,b)\n",
        "print(\"After function call:\",a) #a is modified as it is mutable\n",
        "print(\"After function call:\",b) #b is not modified as it is immutable"
      ],
      "metadata": {
        "id": "3ABanmjkokx2",
        "colab": {
          "base_uri": "https://localhost:8080/"
        },
        "outputId": "bf544922-d701-435f-cbd6-137ad27d4d94"
      },
      "execution_count": 2,
      "outputs": [
        {
          "output_type": "stream",
          "name": "stdout",
          "text": [
            "before change:  [1, 2, 3, 4]\n",
            "after change: [1, 2, 3, 4, 100]\n",
            "before change : 5\n",
            "after change: 15\n",
            "After function call: [1, 2, 3, 4, 100]\n",
            "After function call: 5\n"
          ]
        }
      ]
    },
    {
      "cell_type": "code",
      "source": [],
      "metadata": {
        "id": "KFgIioEoq5JO"
      },
      "execution_count": null,
      "outputs": []
    },
    {
      "cell_type": "markdown",
      "source": [
        "7. Write a program that performs basic arithmetic operations on two user-input numbers."
      ],
      "metadata": {
        "id": "u70z-9nCq1iy"
      }
    },
    {
      "cell_type": "code",
      "source": [
        "x = int(input(\"Enter the first no.:\"))\n",
        "y = int(input(\"Enter the second no.:\"))\n",
        "#Addition\n",
        "sum = x + y\n",
        "#subtraction\n",
        "diff = x - y\n",
        "#Product\n",
        "mult = x * y\n",
        "# Division\n",
        "div = x / y\n",
        "print(\"Results\")\n",
        "print(\"Addition:\",sum)\n",
        "print(\"Subtraction:\",diff)\n",
        "print(\"Product:\",mult)\n",
        "print(\"Division:\",div)"
      ],
      "metadata": {
        "colab": {
          "base_uri": "https://localhost:8080/"
        },
        "id": "WmWJo2WOm2SX",
        "outputId": "09679fce-3ce4-452f-e2ea-fefa02ee5ceb"
      },
      "execution_count": null,
      "outputs": [
        {
          "output_type": "stream",
          "name": "stdout",
          "text": [
            "Enter the first no.:9\n",
            "Enter the second no.:3\n",
            "Results\n",
            "Addition: 12\n",
            "Subtraction: 6\n",
            "Product: 27\n",
            "Division: 3.0\n"
          ]
        }
      ]
    },
    {
      "cell_type": "markdown",
      "source": [
        "8.  Write a program to demonstrate the use of logical operators."
      ],
      "metadata": {
        "id": "gRvYHP-RsaNY"
      }
    },
    {
      "cell_type": "code",
      "source": [
        "is_sunny = True\n",
        "is_warm = False\n",
        "is_umbrella = True\n",
        "print(\"Use of logical operator\")\n",
        "#AND OPERATOR\n",
        "if(is_sunny and is_warm):\n",
        "  print(\"We can go for trip\")\n",
        "else:\n",
        "  print(\"It's not both sunny and warm\")\n",
        "#OR OPERATOR\n",
        "if(is_sunny or is_warm):\n",
        "  print(\"At least it is sunny or warm , not too bad , we can go\")\n",
        "else:\n",
        "  print(\"Neither sunny nor warm\")\n",
        "#NOT OPERATOR\n",
        "if(not is_umbrella):\n",
        "  print(\"Stay inside if it rains\")\n",
        "else:\n",
        "  print(\"You have an umbrella , you can go out if it rains\")"
      ],
      "metadata": {
        "id": "DQfiFJx6sLIL",
        "colab": {
          "base_uri": "https://localhost:8080/"
        },
        "outputId": "c66943b9-5908-4efe-b444-320afff93686"
      },
      "execution_count": 1,
      "outputs": [
        {
          "output_type": "stream",
          "name": "stdout",
          "text": [
            "Use of logical operator\n",
            "It's not both sunny and warm\n",
            "At least it is sunny or warm , not too bad , we can go\n",
            "You have an umbrella , you can go out if it rains\n"
          ]
        }
      ]
    },
    {
      "cell_type": "markdown",
      "source": [
        "9. Write a Python program to convert user input from string to integer, float, and boolean types."
      ],
      "metadata": {
        "id": "gWbhVp_DVNyn"
      }
    },
    {
      "cell_type": "code",
      "source": [
        "user_input = input(\"Enter your input:\")\n",
        "print(\"type of user input:\",type(user_input))\n",
        "#TYPE CONVERSION\n",
        "#From string to integer\n",
        "int_value = int(user_input)\n",
        "print(\"int conversion successful\",type(int_value))\n",
        "\n",
        "#from string to float\n",
        "float_val = float(user_input)\n",
        "print(\"float conversion successful\",type(float_val))\n",
        "\n",
        "#string to boolean\n",
        "bool_val = bool(user_input)\n",
        "print(\"boolean conversion successful\",type(bool_val))"
      ],
      "metadata": {
        "colab": {
          "base_uri": "https://localhost:8080/"
        },
        "id": "hLrh2hc9VBkv",
        "outputId": "b235688d-47c3-418c-df7b-2bd4bb0b5d4d"
      },
      "execution_count": 4,
      "outputs": [
        {
          "output_type": "stream",
          "name": "stdout",
          "text": [
            "Enter your input:45\n",
            "type of user input: <class 'str'>\n",
            "int conversion successful <class 'int'>\n",
            "float conversion successful <class 'float'>\n",
            "boolean conversion successful <class 'bool'>\n"
          ]
        }
      ]
    },
    {
      "cell_type": "markdown",
      "source": [
        "10. Write code to demonstrate type casting with list elements."
      ],
      "metadata": {
        "id": "qNlouti3x0l8"
      }
    },
    {
      "cell_type": "code",
      "source": [
        "a = ['1','2','3.5','4','Hello']\n",
        "print(type(a))\n",
        "print(\"type of first element of list:\",type(a[0]))\n",
        "print(\"type of third element of list:\",type(a[2]))\n",
        "print(\"type casting of first element from string to int:\"  , type(int(a[0])))\n",
        "print(\"type casting of third element from string to float:\" , type(float(a[2])))\n",
        "print(\"type of last element of list:\", type(a[4]))\n",
        "print(\"type casting of 'hello' into another type gives error\")\n",
        "int(a[4])"
      ],
      "metadata": {
        "colab": {
          "base_uri": "https://localhost:8080/",
          "height": 297
        },
        "id": "jpMnqJiZwmBr",
        "outputId": "821da57d-6b21-4df4-aa9a-dcff26490ee8"
      },
      "execution_count": 8,
      "outputs": [
        {
          "output_type": "stream",
          "name": "stdout",
          "text": [
            "<class 'list'>\n",
            "type of first element of list: <class 'str'>\n",
            "type of third element of list: <class 'str'>\n",
            "type casting of first element from string to int: <class 'int'>\n",
            "type casting of third element from string to float: <class 'float'>\n",
            "type of last element of list: <class 'str'>\n",
            "type casting of 'hello' into another type gives error\n"
          ]
        },
        {
          "output_type": "error",
          "ename": "ValueError",
          "evalue": "invalid literal for int() with base 10: 'Hello'",
          "traceback": [
            "\u001b[0;31m---------------------------------------------------------------------------\u001b[0m",
            "\u001b[0;31mValueError\u001b[0m                                Traceback (most recent call last)",
            "\u001b[0;32m<ipython-input-8-934f92e9b9e5>\u001b[0m in \u001b[0;36m<cell line: 0>\u001b[0;34m()\u001b[0m\n\u001b[1;32m      7\u001b[0m \u001b[0mprint\u001b[0m\u001b[0;34m(\u001b[0m\u001b[0;34m\"type of last element of list:\"\u001b[0m\u001b[0;34m,\u001b[0m \u001b[0mtype\u001b[0m\u001b[0;34m(\u001b[0m\u001b[0ma\u001b[0m\u001b[0;34m[\u001b[0m\u001b[0;36m4\u001b[0m\u001b[0;34m]\u001b[0m\u001b[0;34m)\u001b[0m\u001b[0;34m)\u001b[0m\u001b[0;34m\u001b[0m\u001b[0;34m\u001b[0m\u001b[0m\n\u001b[1;32m      8\u001b[0m \u001b[0mprint\u001b[0m\u001b[0;34m(\u001b[0m\u001b[0;34m\"type casting of 'hello' into another type gives error\"\u001b[0m\u001b[0;34m)\u001b[0m\u001b[0;34m\u001b[0m\u001b[0;34m\u001b[0m\u001b[0m\n\u001b[0;32m----> 9\u001b[0;31m \u001b[0mint\u001b[0m\u001b[0;34m(\u001b[0m\u001b[0ma\u001b[0m\u001b[0;34m[\u001b[0m\u001b[0;36m4\u001b[0m\u001b[0;34m]\u001b[0m\u001b[0;34m)\u001b[0m\u001b[0;34m\u001b[0m\u001b[0;34m\u001b[0m\u001b[0m\n\u001b[0m",
            "\u001b[0;31mValueError\u001b[0m: invalid literal for int() with base 10: 'Hello'"
          ]
        }
      ]
    },
    {
      "cell_type": "markdown",
      "source": [
        "11.  Write a program that checks if a number is positive, negative, or zero."
      ],
      "metadata": {
        "id": "6dUOkEld1mjc"
      }
    },
    {
      "cell_type": "code",
      "source": [
        "num = int(input(\"Enter the number:\"))\n",
        "if num > 0 :\n",
        "  print(\"The given number is positive\" , num)\n",
        "elif num < 0:\n",
        "  print(\"The given number is negative\", num)\n",
        "else:\n",
        "  print(\"The given number is zero\", num)\n"
      ],
      "metadata": {
        "colab": {
          "base_uri": "https://localhost:8080/"
        },
        "id": "3f6zW1u70HJ7",
        "outputId": "d691c02c-02f8-41a8-ee88-f84a5b17b66d"
      },
      "execution_count": 11,
      "outputs": [
        {
          "output_type": "stream",
          "name": "stdout",
          "text": [
            "Enter the number:0\n",
            "The given number is zero 0\n"
          ]
        }
      ]
    },
    {
      "cell_type": "markdown",
      "source": [
        "12. Write a for loop to print numbers from 1 to 10."
      ],
      "metadata": {
        "id": "lWpJT8h02mYj"
      }
    },
    {
      "cell_type": "code",
      "source": [
        "for i in range(1,11):\n",
        "  print(i)"
      ],
      "metadata": {
        "colab": {
          "base_uri": "https://localhost:8080/"
        },
        "id": "9f5_UldD2db_",
        "outputId": "848671f5-d839-49d2-f90d-518a2add03d6"
      },
      "execution_count": 12,
      "outputs": [
        {
          "output_type": "stream",
          "name": "stdout",
          "text": [
            "1\n",
            "2\n",
            "3\n",
            "4\n",
            "5\n",
            "6\n",
            "7\n",
            "8\n",
            "9\n",
            "10\n"
          ]
        }
      ]
    },
    {
      "cell_type": "markdown",
      "source": [
        "13.  Write a Python program to find the sum of all even numbers between 1 and 50."
      ],
      "metadata": {
        "id": "OcEhBAmf3MkF"
      }
    },
    {
      "cell_type": "code",
      "source": [
        "i = 1\n",
        "sum = 0\n",
        "while(i <= 50):\n",
        "  if i % 2 == 0:\n",
        "    sum = sum + i\n",
        "  i += 1\n",
        "\n",
        "#printing sum\n",
        "print(\"The sum of all even numbers from 1 to 50 is:\",sum)"
      ],
      "metadata": {
        "colab": {
          "base_uri": "https://localhost:8080/"
        },
        "id": "p6TYFE2r3I1d",
        "outputId": "369424d5-2247-4ec1-ecf3-c51c52d302f2"
      },
      "execution_count": 15,
      "outputs": [
        {
          "output_type": "stream",
          "name": "stdout",
          "text": [
            "The sum of all even numbers from 1 to 50 is: 650\n"
          ]
        }
      ]
    },
    {
      "cell_type": "markdown",
      "source": [
        "14.  Write a program to reverse a string using a while loop"
      ],
      "metadata": {
        "id": "z4soZ6NC41aR"
      }
    },
    {
      "cell_type": "code",
      "source": [
        "org_string = input(\"Enter a string to reverse:\")\n",
        "#reversing the string using slicing\n",
        "rev_string = org_string[::-1]\n",
        "print(\"Reversed string is:\",rev_string)"
      ],
      "metadata": {
        "colab": {
          "base_uri": "https://localhost:8080/"
        },
        "id": "InyDUQrg4VRw",
        "outputId": "059fb66f-1084-459b-bd70-99a4a5fdde0a"
      },
      "execution_count": 17,
      "outputs": [
        {
          "output_type": "stream",
          "name": "stdout",
          "text": [
            "Enter a string to reverse:Yash\n",
            "Reversed string is: hsaY\n"
          ]
        }
      ]
    },
    {
      "cell_type": "markdown",
      "source": [
        "15. Write a Python program to calculate the factorial of a number provided by the user using a while loop.\n"
      ],
      "metadata": {
        "id": "FM3GTtCY8U9e"
      }
    },
    {
      "cell_type": "code",
      "source": [
        "num = int(input(\"Enter the number:\"))\n",
        "i = 1\n",
        "fact = 1\n",
        "while(i <= num):\n",
        "  fact = fact * i\n",
        "  i = i + 1\n",
        "\n",
        "print(\"Factorial of given number is:\",fact)\n",
        ""
      ],
      "metadata": {
        "colab": {
          "base_uri": "https://localhost:8080/"
        },
        "id": "3d6YqOyK7s-B",
        "outputId": "903afcb4-b905-418d-a9ca-19ad6e05001d"
      },
      "execution_count": 27,
      "outputs": [
        {
          "output_type": "stream",
          "name": "stdout",
          "text": [
            "Enter the number:8\n",
            "Factorial of given number is: 40320\n"
          ]
        }
      ]
    },
    {
      "cell_type": "code",
      "source": [],
      "metadata": {
        "id": "XMdmuxRD9T_H"
      },
      "execution_count": 24,
      "outputs": []
    }
  ]
}